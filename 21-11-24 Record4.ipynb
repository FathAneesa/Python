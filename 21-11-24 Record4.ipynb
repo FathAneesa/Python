
{
 "cells": [
  {
   "cell_type": "code",
   "execution_count": 12,
   "id": "e699f49f",
   "metadata": {},
   "outputs": [
    {
     "name": "stdout",
     "output_type": "stream",
     "text": [
      "Enter a text of lines:hi bi hi\n",
      "[('bi', 1), ('hi', 2)]\n"
     ]
    }
   ],
   "source": [
    "text=input(\"Enter a text of lines:\").split()\n",
    "print([(word,text.count(word))for word in set(text)])"
   ]
  },
  {
   "cell_type": "code",
   "execution_count": 15,
   "id": "42608408",
   "metadata": {},
   "outputs": [
    {
     "name": "stdout",
     "output_type": "stream",
     "text": [
      "Enter a list of numbers:100 234 65 789 23 456 33 11 \n",
      "Final list= [100, 'over', 65, 'over', 23, 'over', 33, 11]\n"
     ]
    }
   ],
   "source": [
    "numbers=input(\"Enter a list of numbers:\").split() \n",
    "\n",
    "#convert the strings into integers\n",
    "integers=[int(num) for num in numbers]\n",
    "\n",
    "result=['over' if num>100 else num for num in integers]\n",
    "print(\"Final list=\",result)"
   ]
  },
  {
   "cell_type": "code",
   "execution_count": 17,
   "id": "a35244b8",
   "metadata": {},
   "outputs": [
    {
     "name": "stdout",
     "output_type": "stream",
     "text": [
      "Enter a list of first names:aneesa ashraf aami raashi\n",
      "Count of occurrences of 'a' in the list= 8\n"
     ]
    }
   ],
   "source": [
    "names=input(\"Enter a list of first names:\").split()\n",
    "\n",
    "#count the occurrences of 'a' in each names\n",
    "count=[name.count('a') for name in names]\n",
    "\n",
    "#sum all the counts\n",
    "total=sum(count)\n",
    "\n",
    "print(\"Count of occurrences of 'a' in the list=\",total)"
   ]
  },
  {
   "cell_type": "code",
   "execution_count": 19,
   "id": "da967898",
   "metadata": {},
   "outputs": [
    {
     "name": "stdout",
     "output_type": "stream",
     "text": [
      "Enter the first list of integers:1 2 1 3 2 4 5 4\n",
      "Enter second list of integers:2 3 4 1 5 2 4 7\n",
      "The lists are of same length= True\n",
      "The sum of the lists are same= False\n",
      "Common values= {1, 2, 3, 4, 5}\n"
     ]
    }
   ],
   "source": [
    "#input two lists of integers\n",
    "a=input(\"Enter the first list of integers:\").split()\n",
    "b=input(\"Enter second list of integers:\").split()\n",
    "\n",
    "#mapping these lists into integers\n",
    "list1=list(map(int,a))\n",
    "list2=list(map(int,b))\n",
    "\n",
    "#checking whether the list are of same length\n",
    "length=len(list1)==len(list2)\n",
    "print(\"The lists are of same length=\",length)\n",
    "\n",
    "#checking whether the list sum are same\n",
    "sums=sum(list1)==sum(list2)\n",
    "print(\"The sum of the lists are same=\",sums)\n",
    "\n",
    "#checking whether any value occur in both\n",
    "values=set(list1) & set(list2)\n",
    "print(\"Common values=\",values)"
   ]
  },
  {
   "cell_type": "code",
   "execution_count": 21,
   "id": "8b2786c4",
   "metadata": {},
   "outputs": [
    {
     "name": "stdout",
     "output_type": "stream",
     "text": [
      "Enter some numbers:2 3 -8 23 -98\n",
      "[2, 3, -8, 23, -98]\n",
      "Positive numbers= [2, 3, 23]\n"
     ]
    }
   ],
   "source": [
    "#generate a positive list of numbers \n",
    "\n",
    "numbers=input(\"Enter some numbers:\").split()\n",
    "\n",
    "#mapping these numbers into integers\n",
    "num=list(map(int,numbers))\n",
    "print(num)\n",
    "\n",
    "#to select positive numbers\n",
    "pnums=[numb for numb in num if numb>0]\n",
    "\n",
    "print(\"Positive numbers=\",pnums)\n"
   ]
  },
  {
   "cell_type": "code",
   "execution_count": 1,
   "id": "d356eb1f",
   "metadata": {},
   "outputs": [
    {
     "name": "stdout",
     "output_type": "stream",
     "text": [
      "Enter numbers:1 2  4 5 6 \n",
      "[1, 2, 4, 5, 6]\n",
      "Squares is= [1, 4, 16, 25, 36]\n"
     ]
    }
   ],
   "source": [
    "#square of N numbers\n",
    "\n",
    "num=input(\"Enter numbers:\").split()\n",
    "n=list(map(int,num))\n",
    "print(n)\n",
    "squares=[x**2 for x in n]\n",
    "\n",
    "print(\"Squares is=\",squares)"
   ]
  },
  {
   "cell_type": "code",
   "execution_count": 4,
   "id": "5e7df958",
   "metadata": {},
   "outputs": [
    {
     "name": "stdout",
     "output_type": "stream",
     "text": [
      "Enter a word:AneesaAshraf\n",
      "The vowels are= ['A', 'e', 'e', 'a', 'A', 'a']\n"
     ]
    }
   ],
   "source": [
    "#extracting vowels\n",
    "\n",
    "word=input(\"Enter a word:\")\n",
    "vowels=[vow for vow in word if vow in 'aeiouAEIOU']\n",
    "\n",
    "print(\"The vowels are=\",vowels)"
   ]
  },
  {
   "cell_type": "code",
   "execution_count": 7,
   "id": "ff9b809a",
   "metadata": {},
   "outputs": [
    {
     "name": "stdout",
     "output_type": "stream",
     "text": [
      "Enter a word:aneesa\n",
      "Ordinal values= [97, 110, 101, 101, 115, 97]\n"
     ]
    }
   ],
   "source": [
    "#ordinal values\n",
    "\n",
    "word=input(\"Enter a word:\")\n",
    "ordv=[ord(char) for char in word]\n",
    "\n",
    "print(\"Ordinal values=\",ordv)"
   ]
  },
  {
   "cell_type": "code",
   "execution_count": null,
   "id": "c1bea68c",
   "metadata": {},
   "outputs": [],
   "source": []
  }
 ],
 "metadata": {
  "kernelspec": {
   "display_name": "Python 3 (ipykernel)",
   "language": "python",
   "name": "python3"
  },
  "language_info": {
   "codemirror_mode": {
    "name": "ipython",
    "version": 3
   },
   "file_extension": ".py",
   "mimetype": "text/x-python",
   "name": "python",
   "nbconvert_exporter": "python",
   "pygments_lexer": "ipython3",
   "version": "3.11.5"
  }
 },
 "nbformat": 4,
 "nbformat_minor": 5
}
