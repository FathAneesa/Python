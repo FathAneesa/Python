{
 "cells": [
  {
   "cell_type": "code",
   "execution_count": 4,
   "id": "423192b0",
   "metadata": {},
   "outputs": [
    {
     "name": "stdout",
     "output_type": "stream",
     "text": [
      "\n",
      " 1.Rectangle \n",
      " 2.Circle \n",
      " 3.Exit\n",
      "Enter your choice:1\n",
      "Enter length:2\n",
      "Enter breadth:3\n",
      "Area of rectangle: 6\n",
      "Perimeter of rectangle: 10\n",
      "\n",
      " 1.Rectangle \n",
      " 2.Circle \n",
      " 3.Exit\n",
      "Enter your choice:2\n",
      "Enter radius:5\n",
      "Area of circle: 78.5\n",
      "Perimeter of circle: 31.400000000000002\n",
      "\n",
      " 1.Rectangle \n",
      " 2.Circle \n",
      " 3.Exit\n",
      "Enter your choice:3\n",
      "Exiting...\n"
     ]
    }
   ],
   "source": [
    "import rect\n",
    "import circle1\n",
    "\n",
    "while(1):\n",
    "    print(\"\\n 1.Rectangle \\n 2.Circle \\n 3.Exit\")\n",
    "    ch=int(input(\"Enter your choice:\"))\n",
    "    if ch==1:\n",
    "        l=int(input(\"Enter length:\"))\n",
    "        b=int(input(\"Enter breadth:\"))\n",
    "        rect.rectarea(l,b)\n",
    "        rect.rectperi(l,b)\n",
    "    elif ch==2:\n",
    "        r=int(input(\"Enter radius:\"))\n",
    "        circle1.circlearea(r)\n",
    "        circle1.circleperi(r)\n",
    "        \n",
    "    \n",
    "    else:\n",
    "        print(\"Exiting...\")\n",
    "        break\n",
    "    "
   ]
  },
  {
   "cell_type": "code",
   "execution_count": null,
   "id": "d996761b",
   "metadata": {},
   "outputs": [],
   "source": []
  }
 ],
 "metadata": {
  "kernelspec": {
   "display_name": "Python 3 (ipykernel)",
   "language": "python",
   "name": "python3"
  },
  "language_info": {
   "codemirror_mode": {
    "name": "ipython",
    "version": 3
   },
   "file_extension": ".py",
   "mimetype": "text/x-python",
   "name": "python",
   "nbconvert_exporter": "python",
   "pygments_lexer": "ipython3",
   "version": "3.11.5"
  }
 },
 "nbformat": 4,
 "nbformat_minor": 5
}
