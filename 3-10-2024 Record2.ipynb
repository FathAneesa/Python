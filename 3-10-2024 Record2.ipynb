
{
 "cells": [
  {
   "cell_type": "code",
   "execution_count": 10,
   "id": "87f23c81",
   "metadata": {},
   "outputs": [
    {
     "name": "stdout",
     "output_type": "stream",
     "text": [
      "Enter the temperature in celsius:23\n",
      "the fahrenheit temperature is= 73.4\n"
     ]
    }
   ],
   "source": [
    "#CELSIUS TO FAHRENHEIT.\n",
    "T=int(input(\"Enter the temperature in celsius:\"))\n",
    "F=T*(9/5)+32\n",
    "print(\"the fahrenheit temperature is=\",F)\n"
   ]
  },
  {
   "cell_type": "code",
   "execution_count": 9,
   "id": "24658109",
   "metadata": {},
   "outputs": [
    {
     "name": "stdout",
     "output_type": "stream",
     "text": [
      "Enter the value in kilometers to compute:1\n",
      "1.0 km =0.62137 miles\n"
     ]
    }
   ],
   "source": [
    "#KILOMETERS TO MILES.\n",
    "a=float(input(\"Enter the value in kilometers to compute:\"))\n",
    "b=a*(0.62137)\n",
    "print(\"{} km ={} miles\".format(a,b))\n"
   ]
  },
  {
   "cell_type": "code",
   "execution_count": 14,
   "id": "71b43992",
   "metadata": {},
   "outputs": [
    {
     "name": "stdout",
     "output_type": "stream",
     "text": [
      "Enter the price of the first product:1\n",
      "Enter the price of the second product:2\n",
      "Enter the price of the third product:3\n",
      "Total price= 6\n",
      "Final price= 5.1\n",
      "Avg price= 2.0\n",
      "Is the first product more expensive than final price?= False\n",
      "Is the second product more expensive than final price?= False\n",
      "Is the third product more expensive than final price?= False\n",
      "Is the range of the final price between $50 and $200?= False\n"
     ]
    }
   ],
   "source": [
    "a=int(input(\"Enter the price of the first product:\"))\n",
    "b=int(input(\"Enter the price of the second product:\"))\n",
    "c=int(input(\"Enter the price of the third product:\"))\n",
    "\n",
    "total_price=a+b+c\n",
    "\n",
    "discount=total_price*0.15\n",
    "final_price=total_price-discount\n",
    "\n",
    "avg_price=total_price/3\n",
    "\n",
    "compare_a=a>final_price\n",
    "compare_b=b>final_price\n",
    "compare_c=c>final_price\n",
    "\n",
    "range=50<=final_price<=200\n",
    "\n",
    "print(\"Total price=\",total_price)\n",
    "print(\"Final price=\",final_price)\n",
    "print(\"Avg price=\",avg_price)\n",
    "print(\"Is the first product more expensive than final price?=\",compare_a)\n",
    "print(\"Is the second product more expensive than final price?=\",compare_b)\n",
    "print(\"Is the third product more expensive than final price?=\",compare_b)\n",
    "print(\"Is the range of the final price between $50 and $200?=\",range)"
   ]
  },
  {
   "cell_type": "code",
   "execution_count": null,
   "id": "4d04b749",
   "metadata": {},
   "outputs": [],
   "source": []
  },
  {
   "cell_type": "code",
   "execution_count": null,
   "id": "703838dc",
   "metadata": {},
   "outputs": [],
   "source": []
  },
  {
   "cell_type": "code",
   "execution_count": null,
   "id": "d898023c",
   "metadata": {},
   "outputs": [],
   "source": []
  }
 ],
 "metadata": {
  "kernelspec": {
   "display_name": "Python 3 (ipykernel)",
   "language": "python",
   "name": "python3"
  },
  "language_info": {
   "codemirror_mode": {
    "name": "ipython",
    "version": 3
   },
   "file_extension": ".py",
   "mimetype": "text/x-python",
   "name": "python",
   "nbconvert_exporter": "python",
   "pygments_lexer": "ipython3",
   "version": "3.11.5"
  }
 },
 "nbformat": 4,
 "nbformat_minor": 5
}
