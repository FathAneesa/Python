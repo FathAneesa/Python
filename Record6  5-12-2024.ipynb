{
 "cells": [
  {
   "cell_type": "code",
   "execution_count": 2,
   "id": "966b7085",
   "metadata": {},
   "outputs": [
    {
     "name": "stdout",
     "output_type": "stream",
     "text": [
      "Enter current year:2024\n",
      "Enter final year:2030\n",
      "leap years is: 2024\n",
      "leap years is: 2028\n"
     ]
    }
   ],
   "source": [
    "#display future leap year\n",
    "\n",
    "def lpyear(current,final):\n",
    "    for year in range(current,final+1):\n",
    "        if (year % 4 == 0 and year % 100 != 0) or (year % 400 ==0):\n",
    "            print(\"leap years is:\",year)\n",
    "           \n",
    "\n",
    "\n",
    "cyear=int(input(\"Enter current year:\"))\n",
    "fyear=int(input(\"Enter final year:\"))\n",
    "lpyear(cyear,fyear)"
   ]
  },
  {
   "cell_type": "code",
   "execution_count": 12,
   "id": "90a9620a",
   "metadata": {},
   "outputs": [
    {
     "name": "stdout",
     "output_type": "stream",
     "text": [
      "Enter a number to find its factorial:0\n",
      "The factorial of 0 is 1\n"
     ]
    }
   ],
   "source": [
    "#to find factorial of a number\n",
    "\n",
    "def factorial(n):\n",
    "    if n==0 or n==1:\n",
    "        return 1\n",
    "    else:\n",
    "        return n*factorial(n-1)\n",
    "\n",
    "num=int(input(\"Enter a number to find its factorial:\"))\n",
    "print(f\"The factorial of {num} is {factorial(num)}\")\n"
   ]
  },
  {
   "cell_type": "code",
   "execution_count": 14,
   "id": "7676f928",
   "metadata": {},
   "outputs": [
    {
     "name": "stdout",
     "output_type": "stream",
     "text": [
      "Enter the numbers of terms for the fibonacci series:3\n",
      "Fibonacci series of 3\n",
      "0\n",
      "1\n",
      "1\n",
      "2\n",
      "3\n"
     ]
    }
   ],
   "source": [
    "#generate fibonacci series of N terms\n",
    "\n",
    "def fibonacci(n):\n",
    "    a=1;b=0;c=0\n",
    "    while(c<=n):\n",
    "        print(c)\n",
    "        c=a+b\n",
    "        a=b\n",
    "        b=c\n",
    "    \n",
    "a=int(input(\"Enter the numbers of terms for the fibonacci series:\"))\n",
    "print(\"Fibonacci series of\",a)\n",
    "fibonacci(a)"
   ]
  },
  {
   "cell_type": "code",
   "execution_count": 3,
   "id": "b791c59f",
   "metadata": {},
   "outputs": [
    {
     "name": "stdout",
     "output_type": "stream",
     "text": [
      "Enter a list of words seperated by spaces:hathim aneesa ashraf thesri koya\n",
      "The list of words is= ['hathim', 'aneesa', 'ashraf', 'thesri', 'koya']\n",
      "The length of the longest word in the list is= 6\n"
     ]
    }
   ],
   "source": [
    "#length of longest word\n",
    "\n",
    "def lword(words):\n",
    "    longest=max(words)\n",
    "    return len(longest)\n",
    "    \n",
    "\n",
    "wordlist=input(\"Enter a list of words seperated by spaces:\").split()\n",
    "print(\"The list of words is=\",wordlist)\n",
    "result=lword(wordlist)\n",
    "print(\"The length of the longest word in the list is=\",result)\n"
   ]
  },
  {
   "cell_type": "code",
   "execution_count": 4,
   "id": "323949a1",
   "metadata": {},
   "outputs": [
    {
     "name": "stdout",
     "output_type": "stream",
     "text": [
      "*\n",
      "**\n",
      "***\n",
      "****\n",
      "*****\n",
      "****\n",
      "***\n",
      "**\n",
      "*\n"
     ]
    }
   ],
   "source": [
    "#printing pattern\n",
    "\n",
    "def pat():\n",
    "    rows=5\n",
    "    for i in range(1,rows+1):\n",
    "        print(\"*\" * i)\n",
    "        \n",
    "    for i in range(rows -1,0,-1):\n",
    "        print(\"*\" * i)\n",
    "        \n",
    "pat()"
   ]
  },
  {
   "cell_type": "code",
   "execution_count": 6,
   "id": "5e62287e",
   "metadata": {},
   "outputs": [
    {
     "name": "stdout",
     "output_type": "stream",
     "text": [
      "Enter a number to find the factor:24\n",
      "The factors of 24 are=[1, 2, 3, 4, 6, 8, 12, 24]\n"
     ]
    }
   ],
   "source": [
    "#generate all factors of a number\n",
    "\n",
    "def fact(n):\n",
    "    fact=[]\n",
    "    for i in range(1,n+1):\n",
    "        if n % i==0:\n",
    "            fact.append(i)\n",
    "    return fact\n",
    "\n",
    "\n",
    "num=int(input(\"Enter a number to find the factor:\"))\n",
    "result=fact(num)\n",
    "print(f\"The factors of {num} are={result}\")"
   ]
  },
  {
   "cell_type": "code",
   "execution_count": 12,
   "id": "5ccebd8e",
   "metadata": {},
   "outputs": [
    {
     "name": "stdout",
     "output_type": "stream",
     "text": [
      "Enter the steps number:4\n",
      "1\t\n",
      "2\t4\t\n",
      "3\t6\t9\t\n",
      "4\t8\t12\t16\t\n"
     ]
    }
   ],
   "source": [
    "#pyramid with step number\n",
    "\n",
    "def pyramid(steps):\n",
    "    for i in range(1,steps+1):\n",
    "        for j in range(1,i+1):\n",
    "            print(i*j,end=\"\\t\")\n",
    "        print()\n",
    "        \n",
    "        \n",
    "N=int(input(\"Enter the steps number:\"))\n",
    "pyramid(N)\n"
   ]
  },
  {
   "cell_type": "code",
   "execution_count": 16,
   "id": "64863961",
   "metadata": {},
   "outputs": [
    {
     "name": "stdout",
     "output_type": "stream",
     "text": [
      "Enter the side of the square:3\n",
      "Area of square= 9\n",
      "Enter the length of the rectangle:2\n",
      "Enter the breadth of the rectangle:4\n",
      "Area of rectangle= 8\n",
      "Enter the base of the triangle:2\n",
      "Enter the height of the triangle:3\n",
      "Area of triangle= 3.0\n"
     ]
    }
   ],
   "source": [
    "#lambda function\n",
    "\n",
    "sqr=lambda side: side*side\n",
    "rect=lambda l,b: l*b\n",
    "tri=lambda base,height:0.5*base*height\n",
    "\n",
    "\n",
    "\n",
    "side=int(input(\"Enter the side of the square:\"))\n",
    "result=sqr(side)\n",
    "print(\"Area of square=\",result)\n",
    "\n",
    "l=int(input(\"Enter the length of the rectangle:\"))\n",
    "b=int(input(\"Enter the breadth of the rectangle:\"))\n",
    "result=rect(l,b)\n",
    "print(\"Area of rectangle=\",result)\n",
    "\n",
    "base=float(input(\"Enter the base of the triangle:\"))\n",
    "height=float(input(\"Enter the height of the triangle:\"))\n",
    "result=tri(base,height)\n",
    "print(\"Area of triangle=\",result)"
   ]
  },
  {
   "cell_type": "code",
   "execution_count": null,
   "id": "5831642d",
   "metadata": {},
   "outputs": [],
   "source": []
  }
 ],
 "metadata": {
  "kernelspec": {
   "display_name": "Python 3 (ipykernel)",
   "language": "python",
   "name": "python3"
  },
  "language_info": {
   "codemirror_mode": {
    "name": "ipython",
    "version": 3
   },
   "file_extension": ".py",
   "mimetype": "text/x-python",
   "name": "python",
   "nbconvert_exporter": "python",
   "pygments_lexer": "ipython3",
   "version": "3.11.5"
  }
 },
 "nbformat": 4,
 "nbformat_minor": 5
}
