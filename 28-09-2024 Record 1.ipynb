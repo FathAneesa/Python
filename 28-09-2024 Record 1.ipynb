{
 "cells": [
  {
   "cell_type": "code",
   "execution_count": 1,
   "id": "ca44c4cb",
   "metadata": {},
   "outputs": [
    {
     "name": "stdout",
     "output_type": "stream",
     "text": [
      "Enter an integer:5\n",
      "5+55+555=615\n"
     ]
    }
   ],
   "source": [
    "#COMPUTE n+nn+nnn\n",
    "n=input(\"Enter an integer:\")\n",
    "result=int(n)+int(n*2)+int(n*3)\n",
    "print(f\"{n}+{n*2}+{n*3}={result}\")\n",
    "      "
   ]
  },
  {
   "cell_type": "code",
   "execution_count": 10,
   "id": "139157ec",
   "metadata": {},
   "outputs": [
    {
     "name": "stdout",
     "output_type": "stream",
     "text": [
      "Enter the radius:2\n",
      "The area of the circle is: 12.566370614359172\n"
     ]
    }
   ],
   "source": [
    "#COMPUTE AREA OF CIRCLE\n",
    "import math\n",
    "r=float(input(\"Enter the radius:\"))\n",
    "area=math.pi*r**2\n",
    "print(\"The area of the circle is:\",area)"
   ]
  },
  {
   "cell_type": "code",
   "execution_count": 5,
   "id": "3447d988",
   "metadata": {},
   "outputs": [
    {
     "name": "stdout",
     "output_type": "stream",
     "text": [
      "Enter first number:3\n",
      "Enter second number:4\n",
      "Enter third number:6\n",
      "Biggest number is: 6\n"
     ]
    }
   ],
   "source": [
    "#COMPUTE THE BIGGEST OF THREE NUMBERS\n",
    "import math\n",
    "a=int(input(\"Enter first number:\"))\n",
    "b=int(input(\"Enter second number:\"))\n",
    "c=int(input(\"Enter third number:\"))\n",
    "Biggest=max(a,b,c)\n",
    "print(\"Biggest number is:\",Biggest)\n"
   ]
  },
  {
   "cell_type": "code",
   "execution_count": null,
   "id": "35863594",
   "metadata": {},
   "outputs": [],
   "source": []
  }
 ],
 "metadata": {
  "kernelspec": {
   "display_name": "Python 3 (ipykernel)",
   "language": "python",
   "name": "python3"
  },
  "language_info": {
   "codemirror_mode": {
    "name": "ipython",
    "version": 3
   },
   "file_extension": ".py",
   "mimetype": "text/x-python",
   "name": "python",
   "nbconvert_exporter": "python",
   "pygments_lexer": "ipython3",
   "version": "3.11.5"
  }
 },
 "nbformat": 4,
 "nbformat_minor": 5
}
