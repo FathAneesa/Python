
{
 "cells": [
  {
   "cell_type": "code",
   "execution_count": 1,
   "id": "8d69bd22",
   "metadata": {},
   "outputs": [
    {
     "name": "stdout",
     "output_type": "stream",
     "text": [
      "Enter first number:23\n",
      "Enter second number:12\n",
      "The gcd of the two numbers is= 1\n"
     ]
    }
   ],
   "source": [
    "#gcd of 2 numbers\n",
    "\n",
    "a=int(input(\"Enter first number:\"))\n",
    "b=int(input(\"Enter second number:\"))\n",
    "\n",
    "while b!=0:\n",
    "    if a>b:\n",
    "        a=a-b\n",
    "    else:\n",
    "        b=b-a\n",
    "\n",
    "print(\"The gcd of the two numbers is=\",a)\n"
   ]
  },
  {
   "cell_type": "code",
   "execution_count": 9,
   "id": "f20e6eaa",
   "metadata": {},
   "outputs": [
    {
     "name": "stdout",
     "output_type": "stream",
     "text": [
      "Initial list= [1, 2, 3, 4, 5, 6, 7, 8, 9, 10]\n",
      "Final list after removing even numbers= [1, 3, 5, 7, 9]\n"
     ]
    }
   ],
   "source": [
    "#removing even numbers from the list\n",
    "\n",
    "nums=[1,2,3,4,5,6,7,8,9,10]\n",
    "\n",
    "odds=[]\n",
    "\n",
    "for n in nums:\n",
    "    if n % 2!=0:\n",
    "        odds.append(n)\n",
    "\n",
    "print(\"Initial list=\",nums)\n",
    "print(\"Final list after removing even numbers=\",odds)\n",
    "\n"
   ]
  },
  {
   "cell_type": "code",
   "execution_count": 12,
   "id": "8f5a7d32",
   "metadata": {},
   "outputs": [
    {
     "name": "stdout",
     "output_type": "stream",
     "text": [
      "The list is [1, 2, 3, 4, 5, 6]\n",
      "The sum of all items in the list= 21\n"
     ]
    }
   ],
   "source": [
    "#sum of a list\n",
    "\n",
    "nums=[1,2,3,4,5,6]\n",
    "\n",
    "tsum=0\n",
    "\n",
    "for n in nums:\n",
    "    tsum += n\n",
    "\n",
    "print(\"The list is\",nums)\n",
    "print(\"The sum of all items in the list=\",tsum)"
   ]
  },
  {
   "cell_type": "code",
   "execution_count": 14,
   "id": "66468c20",
   "metadata": {},
   "outputs": [
    {
     "name": "stdout",
     "output_type": "stream",
     "text": [
      "Enter a word:aneesashraf\n",
      "Number of characters in the given string= {'a': 3, 'n': 1, 'e': 2, 's': 2, 'h': 1, 'r': 1, 'f': 1}\n"
     ]
    }
   ],
   "source": [
    "#count number of characters in a string\n",
    "\n",
    "string=input(\"Enter a word:\")\n",
    "c={}\n",
    "\n",
    "for char in string:\n",
    "    if char in c:\n",
    "        c[char] +=1\n",
    "    else:\n",
    "        c[char]=1\n",
    "        \n",
    "print(\"Number of characters in the given string=\",c)"
   ]
  },
  {
   "cell_type": "code",
   "execution_count": 17,
   "id": "7f68052c",
   "metadata": {},
   "outputs": [
    {
     "name": "stdout",
     "output_type": "stream",
     "text": [
      "Enter a word:wondering\n",
      "The new output is= wonderingly\n"
     ]
    }
   ],
   "source": [
    "#add 'ing' at the end or if already have 'ing' then add 'ly'\n",
    "\n",
    "string=input(\"Enter a word:\")\n",
    "\n",
    "if string.endswith(\"ing\"):\n",
    "    string +=\"ly\"\n",
    "else:\n",
    "    string +=\"ing\"\n",
    "    \n",
    "print(\"The new output is=\",string)"
   ]
  },
  {
   "cell_type": "code",
   "execution_count": 19,
   "id": "1161fc63",
   "metadata": {},
   "outputs": [
    {
     "name": "stdout",
     "output_type": "stream",
     "text": [
      "The new list is= [4624, 6084, 6400, 8464]\n"
     ]
    }
   ],
   "source": [
    "#generate list of four digit nos in a given range with all their digits even and the no is a perfect square\n",
    "\n",
    "import math\n",
    "\n",
    "result=[]\n",
    "\n",
    "for num in range(1000,10000):\n",
    "    if int(math.sqrt(num))**2 == num: #checking the num is a perfect square\n",
    "        if all(int(digit) % 2 ==0 for digit in str(num)): #checking all digit of the num is even or not\n",
    "            result.append(num)\n",
    "            \n",
    "print(\"The new list is=\",result)\n"
   ]
  },
  {
   "cell_type": "code",
   "execution_count": null,
   "id": "3eb9c93e",
   "metadata": {},
   "outputs": [],
   "source": []
  }
 ],
 "metadata": {
  "kernelspec": {
   "display_name": "Python 3 (ipykernel)",
   "language": "python",
   "name": "python3"
  },
  "language_info": {
   "codemirror_mode": {
    "name": "ipython",
    "version": 3
   },
   "file_extension": ".py",
   "mimetype": "text/x-python",
   "name": "python",
   "nbconvert_exporter": "python",
   "pygments_lexer": "ipython3",
   "version": "3.11.5"
  }
 },
 "nbformat": 4,
 "nbformat_minor": 5
}
