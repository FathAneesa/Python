{
 "cells": [
  {
   "cell_type": "code",
   "execution_count": 2,
   "id": "111d0dc6",
   "metadata": {},
   "outputs": [
    {
     "name": "stdout",
     "output_type": "stream",
     "text": [
      "Enter a word:python\n",
      "nythop\n"
     ]
    }
   ],
   "source": [
    "#python->nythop\n",
    "\n",
    "a=input(\"Enter a word:\")\n",
    "b=a[-1]+a[1:-1]+a[0]\n",
    "print(b)"
   ]
  },
  {
   "cell_type": "code",
   "execution_count": 4,
   "id": "b41d27a1",
   "metadata": {},
   "outputs": [
    {
     "name": "stdout",
     "output_type": "stream",
     "text": [
      "Enter 1st string:aneesa\n",
      "Enter 2nd string:ashraf\n",
      "aseesa anhraf\n"
     ]
    }
   ],
   "source": [
    "#exchanging first two letters on two strings\n",
    "\n",
    "s1=input(\"Enter 1st string:\")\n",
    "s2=input(\"Enter 2nd string:\")\n",
    "s3=s1[0:2]\n",
    "s4=s2[0:2]\n",
    "s5=s1[2:]\n",
    "s6=s2[2:]\n",
    "print(s4+s5+\" \"+s3+s6)"
   ]
  },
  {
   "cell_type": "code",
   "execution_count": 4,
   "id": "10d9bdfa",
   "metadata": {},
   "outputs": [
    {
     "name": "stdout",
     "output_type": "stream",
     "text": [
      "Enter a word:ashraf\n",
      "ashr$f\n"
     ]
    }
   ],
   "source": [
    "#\n",
    "a=input(\"Enter a word:\")\n",
    "b=a[0]\n",
    "c=b+a[1:].replace(b,'$')\n",
    "print(c)\n"
   ]
  },
  {
   "cell_type": "code",
   "execution_count": 9,
   "id": "8b15f25e",
   "metadata": {},
   "outputs": [
    {
     "name": "stdout",
     "output_type": "stream",
     "text": [
      "Enter some color names by putting comma:red,blue,green,yellow,white\n",
      "First color= red\n",
      "Last color= white\n"
     ]
    }
   ],
   "source": [
    "a=input(\"Enter some color names by putting comma:\")\n",
    "b=a.split(',')\n",
    "print(\"First color=\",b[0])\n",
    "print(\"Last color=\",b[-1])"
   ]
  },
  {
   "cell_type": "code",
   "execution_count": 11,
   "id": "e2203841",
   "metadata": {},
   "outputs": [
    {
     "name": "stdout",
     "output_type": "stream",
     "text": [
      "Enter the filename:kudu.html\n",
      "File extension= html\n"
     ]
    }
   ],
   "source": [
    "filename=input(\"Enter the filename:\")\n",
    "file_name=filename.split('.')\n",
    "extension=file_name[-1]\n",
    "print(\"File extension=\",extension)\n"
   ]
  },
  {
   "cell_type": "code",
   "execution_count": 13,
   "id": "3fe28964",
   "metadata": {},
   "outputs": [
    {
     "name": "stdout",
     "output_type": "stream",
     "text": [
      "3rd element of the tuple= 3\n",
      "3rd element from the last of the tuple= 7\n"
     ]
    }
   ],
   "source": [
    "tuple=(1,2,3,4,5,6,7,8,9)\n",
    "third_element=tuple[2]\n",
    "last_third_element=tuple[-3]\n",
    "print(\"3rd element of the tuple=\",third_element)\n",
    "print(\"3rd element from the last of the tuple=\",last_third_element)\n"
   ]
  },
  {
   "cell_type": "code",
   "execution_count": 14,
   "id": "dc7d6704",
   "metadata": {},
   "outputs": [
    {
     "name": "stdout",
     "output_type": "stream",
     "text": [
      "Colors that are not contained in color_set2= {'green', 'red', 'yellow'}\n"
     ]
    }
   ],
   "source": [
    "color_set1={\"red\",\"blue\",\"green\",\"yellow\"}\n",
    "color_set2={\"blue\",\"pink\",\"white\",\"black\",\"lavender\"}\n",
    "new_color_set=color_set1-color_set2\n",
    "print(\"Colors that are not contained in color_set2=\",new_color_set)"
   ]
  },
  {
   "cell_type": "code",
   "execution_count": 11,
   "id": "516f2f8a",
   "metadata": {},
   "outputs": [
    {
     "name": "stdout",
     "output_type": "stream",
     "text": [
      "Enter 5 roll number seperated by comma:1,4,5,7,8\n",
      "Enter 5 students name seperated by comma:as,aw,at,ay,tr\n",
      "dict: {'1': 'as', '4': 'aw', '5': 'at', '7': 'ay', '8': 'tr'}\n",
      "sorted dict in descending order: {'8': 'tr', '7': 'ay', '5': 'at', '4': 'aw', '1': 'as'}\n",
      "sorted dict in ascending order: {'1': 'as', '4': 'aw', '5': 'at', '7': 'ay', '8': 'tr'}\n"
     ]
    }
   ],
   "source": [
    "roll=input(\"Enter 5 roll number seperated by comma:\").split(',')\n",
    "name=input(\"Enter 5 students name seperated by comma:\").split(',')\n",
    "d={roll[0]:name[0],roll[1]:name[1],roll[2]:name[2],roll[3]:name[3],roll[4]:name[4]}\n",
    "print(\"dict:\",d)\n",
    "\n",
    "s=dict(sorted(d.items(),reverse=True))\n",
    "print(\"sorted dict in descending order:\",s)\n",
    "\n",
    "s=dict(sorted(d.items(),reverse=False))\n",
    "print(\"sorted dict in ascending order:\",s)\n"
   ]
  },
  {
   "cell_type": "code",
   "execution_count": 14,
   "id": "62052938",
   "metadata": {},
   "outputs": [
    {
     "name": "stdout",
     "output_type": "stream",
     "text": [
      "Enter 3 students name:as,h,ju\n",
      "Dictionary1= {1: 'as', 2: 'h', 3: 'ju'}\n",
      "Enter 2 students name:w,t\n",
      "Dictionary2= {4: 'w', 5: 't'}\n",
      "Merged dictionary= {1: 'as', 2: 'h', 3: 'ju', 4: 'w', 5: 't'}\n"
     ]
    }
   ],
   "source": [
    "a=input(\"Enter 3 students name:\").split(',')\n",
    "ad={1:a[0],2:a[1],3:a[2]}\n",
    "print(\"Dictionary1=\",ad)\n",
    "\n",
    "b=input(\"Enter 2 students name:\").split(',')\n",
    "bd={4:b[0],5:b[1]}\n",
    "print(\"Dictionary2=\",bd)\n",
    "\n",
    "ad.update(bd)\n",
    "\n",
    "print(\"Merged dictionary=\",ad)\n",
    "\n"
   ]
  },
  {
   "cell_type": "code",
   "execution_count": 21,
   "id": "813014e4",
   "metadata": {},
   "outputs": [
    {
     "name": "stdout",
     "output_type": "stream",
     "text": [
      "Numbers are: [2, 4, 6, 8, 10, 12, 14, 16, 18, 20, 22, 24]\n",
      "Sum= 156\n"
     ]
    }
   ],
   "source": [
    "a=list(range(2,25,2))\n",
    "print(\"Numbers are:\",a)\n",
    "\n",
    "total=sum(a)\n",
    "\n",
    "print(\"Sum=\",total)"
   ]
  },
  {
   "cell_type": "code",
   "execution_count": null,
   "id": "67a7ef94",
   "metadata": {},
   "outputs": [],
   "source": []
  }
 ],
 "metadata": {
  "kernelspec": {
   "display_name": "Python 3 (ipykernel)",
   "language": "python",
   "name": "python3"
  },
  "language_info": {
   "codemirror_mode": {
    "name": "ipython",
    "version": 3
   },
   "file_extension": ".py",
   "mimetype": "text/x-python",
   "name": "python",
   "nbconvert_exporter": "python",
   "pygments_lexer": "ipython3",
   "version": "3.11.5"
  }
 },
 "nbformat": 4,
 "nbformat_minor": 5
}
