{
 "cells": [
  {
   "cell_type": "code",
   "execution_count": 2,
   "id": "111d0dc6",
   "metadata": {},
   "outputs": [
    {
     "name": "stdout",
     "output_type": "stream",
     "text": [
      "Enter a word:python\n",
      "nythop\n"
     ]
    }
   ],
   "source": [
    "#python->nythop\n",
    "\n",
    "a=input(\"Enter a word:\")\n",
    "b=a[-1]+a[1:-1]+a[0]\n",
    "print(b)"
   ]
  },
  {
   "cell_type": "code",
   "execution_count": 4,
   "id": "b41d27a1",
   "metadata": {},
   "outputs": [
    {
     "name": "stdout",
     "output_type": "stream",
     "text": [
      "Enter 1st string:aneesa\n",
      "Enter 2nd string:ashraf\n",
      "aseesa anhraf\n"
     ]
    }
   ],
   "source": [
    "#exchanging first two letters on two strings\n",
    "\n",
    "s1=input(\"Enter 1st string:\")\n",
    "s2=input(\"Enter 2nd string:\")\n",
    "s3=s1[0:2]\n",
    "s4=s2[0:2]\n",
    "s5=s1[2:]\n",
    "s6=s2[2:]\n",
    "print(s4+s5+\" \"+s3+s6)"
   ]
  },
  {
   "cell_type": "code",
   "execution_count": null,
   "id": "10d9bdfa",
   "metadata": {},
   "outputs": [],
   "source": [
    "s1=input(\"Enter a word:\")\n"
   ]
  }
 ],
 "metadata": {
  "kernelspec": {
   "display_name": "Python 3 (ipykernel)",
   "language": "python",
   "name": "python3"
  },
  "language_info": {
   "codemirror_mode": {
    "name": "ipython",
    "version": 3
   },
   "file_extension": ".py",
   "mimetype": "text/x-python",
   "name": "python",
   "nbconvert_exporter": "python",
   "pygments_lexer": "ipython3",
   "version": "3.11.5"
  }
 },
 "nbformat": 4,
 "nbformat_minor": 5
}
