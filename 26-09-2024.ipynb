{
 "cells": [
  {
   "cell_type": "code",
   "execution_count": 4,
   "id": "f5256320",
   "metadata": {},
   "outputs": [
    {
     "name": "stdout",
     "output_type": "stream",
     "text": [
      "Enter the side of the square:4\n",
      "area= 16\n"
     ]
    }
   ],
   "source": [
    "a=int(input(\"Enter the side of the square:\"))\n",
    "area=a*a\n",
    "print(\"area=\",area)"
   ]
  },
  {
   "cell_type": "code",
   "execution_count": 5,
   "id": "d8e19a3d",
   "metadata": {},
   "outputs": [
    {
     "name": "stdout",
     "output_type": "stream",
     "text": [
      "Enter the base of the right angled triangle:4\n",
      "Enter the height of the right angled triangle:2\n",
      "area= 4.0\n"
     ]
    }
   ],
   "source": [
    "b=int(input(\"Enter the base of the right angled triangle:\"))\n",
    "h=int(input(\"Enter the height of the right angled triangle:\"))\n",
    "area=(b*h)/2\n",
    "print(\"area=\",area)\n"
   ]
  },
  {
   "cell_type": "markdown",
   "id": "f63e9ad6",
   "metadata": {},
   "source": []
  },
  {
   "cell_type": "code",
   "execution_count": 3,
   "id": "fe07e7f5",
   "metadata": {},
   "outputs": [
    {
     "name": "stdout",
     "output_type": "stream",
     "text": [
      "enter the name:Aneesa\n",
      "Hello,Aneesa!\n"
     ]
    }
   ],
   "source": [
    "name=input(\"Enter the name:\")\n",
    "print(\"Hello,\"+name+\"!\")"
   ]
  },
  {
   "cell_type": "code",
   "execution_count": 7,
   "id": "2acea4ab",
   "metadata": {},
   "outputs": [
    {
     "name": "stdout",
     "output_type": "stream",
     "text": [
      "Enter an integer number:6\n",
      "The previous number of a is 5\n",
      "The next number of a is 7\n"
     ]
    }
   ],
   "source": [
    "a=int(input(\"Enter an integer number:\"))\n",
    "previous_number=a-1\n",
    "next_number=a+1\n",
    "print(\"The previous number of a is\",previous_number)\n",
    "print(\"The next number of a is\",next_number)"
   ]
  },
  {
   "cell_type": "code",
   "execution_count": 8,
   "id": "1228b4b2",
   "metadata": {},
   "outputs": [
    {
     "name": "stdout",
     "output_type": "stream",
     "text": [
      "Enter an amount:1000\n",
      "Enter the rate of interest:5\n",
      "Enter the time period:1.5\n",
      "The result is: 75.0\n"
     ]
    }
   ],
   "source": [
    "p=int(input(\"Enter an amount:\"))\n",
    "r=int(input(\"Enter the rate of interest:\"))\n",
    "t=float(input(\"Enter the time period:\"))\n",
    "SI=(p*r*t)/100\n",
    "print(\"The result is:\",SI)\n"
   ]
  },
  {
   "cell_type": "code",
   "execution_count": null,
   "id": "38ca8f82",
   "metadata": {},
   "outputs": [],
   "source": []
  }
 ],
 "metadata": {
  "kernelspec": {
   "display_name": "Python 3 (ipykernel)",
   "language": "python",
   "name": "python3"
  },
  "language_info": {
   "codemirror_mode": {
    "name": "ipython",
    "version": 3
   },
   "file_extension": ".py",
   "mimetype": "text/x-python",
   "name": "python",
   "nbconvert_exporter": "python",
   "pygments_lexer": "ipython3",
   "version": "3.11.5"
  }
 },
 "nbformat": 4,
 "nbformat_minor": 5
}

